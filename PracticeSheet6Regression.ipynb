{
 "cells": [
  {
   "cell_type": "markdown",
   "metadata": {},
   "source": [
    "# Stock Price prediction using Machine Learning\n",
    "\n",
    "In this tutorial, you explore developing regression machine learning models using Python.\n",
    "The data set that will be used is the 5 year daily stock price for Apple Inc (https://finance.yahoo.com/quote/AAPL/history?p=AAPL). \n",
    "This data set is meant to be used to predict next day Apple stock price. \n",
    "\n",
    "## In this notebook\n",
    "\n",
    " - Find the API Docs for the running version of Pandas & scikit-learn\n",
    " - Prepare time series data\n",
    " - Train regression models\n",
    " - Evaluate regression models\n",
    " - Save and load trained models\n",
    " \n",
    " Notebook adapted from: https://www.analyticsvidhya.com/blog/2018/10/predicting-stock-price-machine-learningnd-deep-learning-techniques-python/\n"
   ]
  },
  {
   "cell_type": "code",
   "execution_count": null,
   "metadata": {},
   "outputs": [],
   "source": [
    "!pip install pandas"
   ]
  },
  {
   "cell_type": "code",
   "execution_count": null,
   "metadata": {},
   "outputs": [],
   "source": [
    "import pandas as pd\n",
    "import numpy as np"
   ]
  },
  {
   "cell_type": "code",
   "execution_count": null,
   "metadata": {},
   "outputs": [],
   "source": [
    "# Load the data from the CSV to a Panda's Dataframe\n",
    "\n",
    "filePath = 'AAPL_5years.csv'\n",
    " \n",
    "df=pd.read_csv(filePath)"
   ]
  },
  {
   "cell_type": "code",
   "execution_count": null,
   "metadata": {},
   "outputs": [],
   "source": [
    "#display first 10 records\n",
    "\n",
    "df.head(n=10)"
   ]
  },
  {
   "cell_type": "code",
   "execution_count": null,
   "metadata": {},
   "outputs": [],
   "source": [
    "#display last 10 records\n",
    "\n",
    "df.tail(n=10)"
   ]
  },
  {
   "cell_type": "code",
   "execution_count": null,
   "metadata": {},
   "outputs": [],
   "source": [
    "#Let's check the data schema of this dataframe, i.e. the data type for each column?\n",
    "\n",
    "df.info()"
   ]
  },
  {
   "cell_type": "code",
   "execution_count": null,
   "metadata": {},
   "outputs": [],
   "source": [
    "#Let's calculate statistics for the numeric attributes\n",
    "\n",
    "df.describe()"
   ]
  },
  {
   "cell_type": "markdown",
   "metadata": {},
   "source": [
    "There are multiple variables in the dataset – date, open, high, low, last, close, total_trade_quantity, and turnover.\n",
    "\n",
    "- The columns Open and Close represent the starting and final price at which the stock is traded on a particular day.\n",
    "- High, Low and Last represent the maximum, minimum, and last price of the share for the day.\n",
    "- Total Trade Quantity is the number of shares bought or sold in the day and Turnover (Lacs) is the turnover of the particular company on a given date.\n",
    "\n",
    "The profit or loss calculation is usually determined by the closing price of a stock for the day, hence we will consider the __closing price__ as the __target__ variable."
   ]
  },
  {
   "cell_type": "code",
   "execution_count": null,
   "metadata": {},
   "outputs": [],
   "source": [
    "df.drop(['Open', 'High','Low','Adj Close','Volume'], axis=1,inplace=True)\n",
    "\n",
    "df\n"
   ]
  },
  {
   "cell_type": "code",
   "execution_count": null,
   "metadata": {},
   "outputs": [],
   "source": [
    "!pip install plotly\n",
    "\n",
    "import plotly.graph_objects as go\n"
   ]
  },
  {
   "cell_type": "code",
   "execution_count": null,
   "metadata": {},
   "outputs": [],
   "source": [
    "fig=go.Figure()\n",
    "\n",
    "#setting index as date\n",
    "df['Date'] = pd.to_datetime(df.Date,format='%Y-%m-%d')\n",
    "\n",
    "fig.add_trace(go.Scatter(x=df['Date'], y=df['Close'],\n",
    "                    mode='lines',\n",
    "                    name='Close Price history'))\n",
    "\n",
    "fig.update_layout(title=\"Close Price history\",\n",
    "                 xaxis_title=\"Date\",yaxis_title=\"Close Price\",legend=dict(x=0,y=1,traceorder=\"normal\"))\n",
    "fig.show()"
   ]
  },
  {
   "cell_type": "code",
   "execution_count": null,
   "metadata": {},
   "outputs": [],
   "source": [
    "# Use the Sliding Window algorithm to reshape the data. \n",
    "\n",
    "# Window of size 10 days and a slide of 1 day (i.e use the previous 10 values to predict the next value, then slides 1 day)\n",
    "\n",
    "temps = pd.DataFrame(df['Close'].values)\n",
    "flattenDF = pd.concat([temps.shift(10),temps.shift(9),temps.shift(8),temps.shift(7),temps.shift(6),temps.shift(5),temps.shift(4),temps.shift(3),temps.shift(2),temps.shift(1), temps], axis=1)\n",
    "flattenDF.columns = ['t-10','t-9','t-8','t-7','t-6','t-5','t-4','t-3','t-2','t-1', 't']\n",
    "\n",
    "flattenDF"
   ]
  },
  {
   "cell_type": "code",
   "execution_count": null,
   "metadata": {},
   "outputs": [],
   "source": [
    "# Check the last flattended record against the last 11 Close values. They should be the same.\n",
    "\n",
    "df.tail(n=11)"
   ]
  },
  {
   "cell_type": "code",
   "execution_count": null,
   "metadata": {},
   "outputs": [],
   "source": [
    "#Drop records with NaNs\n",
    "\n",
    "flattenDF.dropna(inplace=True)\n",
    "\n",
    "flattenDF"
   ]
  },
  {
   "cell_type": "markdown",
   "metadata": {},
   "source": [
    "# Build a regression model to predict the value using the previous 10 days data\n",
    "\n"
   ]
  },
  {
   "cell_type": "code",
   "execution_count": null,
   "metadata": {},
   "outputs": [],
   "source": [
    "!pip install scikit-learn"
   ]
  },
  {
   "cell_type": "code",
   "execution_count": null,
   "metadata": {},
   "outputs": [],
   "source": [
    "\n",
    "#assign features times t-10 to t-1 columns to a features DF \n",
    "features_df = flattenDF.loc[:, flattenDF.columns != 't']\n",
    "\n",
    "#Set target to the time t column\n",
    "target = flattenDF['t']\n",
    "\n",
    "\n",
    "#split data set into train and validation sets. We are not using the random spit function because we want to use old data to predict newer data\n",
    "X_train = features_df[:999]\n",
    "X_val = features_df[999:]\n",
    "y_train = target[:999]\n",
    "y_val = target[999:]\n",
    "\n",
    "\n",
    "print (\"Train dataset: {0}{1}\".format(X_train.shape, y_train.shape))\n",
    "print (\"Validation dataset: {0}{1}\".format(X_val.shape, y_val.shape))"
   ]
  },
  {
   "cell_type": "code",
   "execution_count": null,
   "metadata": {},
   "outputs": [],
   "source": [
    "# Train a linear regression model\n",
    "\n",
    "from sklearn.linear_model import LinearRegression\n",
    "\n",
    "linearRegModel = LinearRegression()\n",
    "linearRegModel.fit(X_train,y_train)"
   ]
  },
  {
   "cell_type": "code",
   "execution_count": null,
   "metadata": {},
   "outputs": [],
   "source": [
    "# make predictions on the validation data to evaluate the model\n",
    "linearRegPreds = linearRegModel.predict(X_val)\n",
    "linearRegPreds.shape"
   ]
  },
  {
   "cell_type": "code",
   "execution_count": null,
   "metadata": {},
   "outputs": [],
   "source": [
    "#Append the 250 predictions to 1009 zeros representing the training and NaN records to generate a series of 1259 records\n",
    "# to add to the original data dataframe to be able to display and compare the predictions with actual values.\n",
    "\n",
    "df[\"Predictions\"] = np.append(np.zeros(1009),linearRegPreds)\n",
    "\n",
    "df"
   ]
  },
  {
   "cell_type": "code",
   "execution_count": null,
   "metadata": {},
   "outputs": [],
   "source": [
    "#Display the actual VS Predicted values\n",
    "\n",
    "fig=go.Figure()\n",
    "\n",
    "#setting index as date\n",
    "df['Date'] = pd.to_datetime(df.Date,format='%Y-%m-%d')\n",
    "\n",
    "fig.add_trace(go.Scatter(x=df['Date'], y=df['Close'],\n",
    "                    mode='lines',\n",
    "                    name='Close Price history'))\n",
    "\n",
    "fig.add_trace(go.Scatter(x=df['Date'], y=df['Predictions'],\n",
    "                    mode='lines',\n",
    "                    name='Predicted Close Price'))\n",
    "\n",
    "fig.update_layout(title=\"Close Price\",\n",
    "                 xaxis_title=\"Date\",yaxis_title=\"Close Price\",legend=dict(x=0,y=1,traceorder=\"normal\"))\n",
    "fig.show()"
   ]
  },
  {
   "cell_type": "code",
   "execution_count": null,
   "metadata": {},
   "outputs": [],
   "source": [
    "# Evaluate the model by calculating the prediction root mean square error (RMS)\n",
    "\n",
    "import numpy\n",
    "\n",
    "rms=np.sqrt(np.mean(np.power((np.array(y_val)-np.array(linearRegPreds)),2)))\n",
    "rms"
   ]
  },
  {
   "cell_type": "code",
   "execution_count": null,
   "metadata": {},
   "outputs": [],
   "source": [
    "#Check the other models you can build\n",
    "\n",
    "from sklearn.kernel_ridge import KernelRidge #SVM with Kernel to model non-linear data https://scikit-learn.org/stable/modules/generated/sklearn.kernel_ridge.KernelRidge.html#sklearn.kernel_ridge.KernelRidge\n",
    "\n",
    "from sklearn import svm #linear SVM https://scikit-learn.org/stable/modules/svm.html#regression\n",
    "\n",
    "from sklearn.neighbors import NearestNeighbors #KNN https://scikit-learn.org/stable/modules/neighbors.html#nearest-neighbors-regression\n",
    "\n",
    "from sklearn import tree # Decision Tree Regressor https://scikit-learn.org/stable/modules/tree.html#regression"
   ]
  },
  {
   "cell_type": "markdown",
   "metadata": {},
   "source": [
    "# Saving the trained model"
   ]
  },
  {
   "cell_type": "code",
   "execution_count": null,
   "metadata": {},
   "outputs": [],
   "source": [
    "#import the pickle library\n",
    "import pickle"
   ]
  },
  {
   "cell_type": "code",
   "execution_count": null,
   "metadata": {},
   "outputs": [],
   "source": [
    "# save the model to disk\n",
    "filename = 'stocksLinerRegModel.mdl'\n",
    "pickle.dump(linearRegModel, open(filename, 'wb'))\n",
    " "
   ]
  },
  {
   "cell_type": "markdown",
   "metadata": {},
   "source": [
    "# Load the model later"
   ]
  },
  {
   "cell_type": "code",
   "execution_count": null,
   "metadata": {},
   "outputs": [],
   "source": [
    "# load the model from disk\n",
    "filename = 'stocksLinerRegModel.mdl'\n",
    "loaded_model = pickle.load(open(filename, 'rb'))"
   ]
  },
  {
   "cell_type": "code",
   "execution_count": null,
   "metadata": {},
   "outputs": [],
   "source": [
    "# Predict Tomorrow's price based on the last 10 days data\n",
    "\n",
    "last_10_days_prices = df['Close'].tail(n=10)\n",
    "tomorrows_stock_price = loaded_model.predict([last_10_days_prices])\n",
    "\n",
    "tomorrows_stock_price"
   ]
  },
  {
   "cell_type": "markdown",
   "metadata": {},
   "source": [
    "# What do we need to do different to pridect the stock price the day after tomorrow or the prices for the entire upcoming week?"
   ]
  },
  {
   "cell_type": "code",
   "execution_count": null,
   "metadata": {},
   "outputs": [],
   "source": []
  }
 ],
 "metadata": {
  "kernelspec": {
   "display_name": "Python 3",
   "language": "python",
   "name": "python3"
  },
  "language_info": {
   "codemirror_mode": {
    "name": "ipython",
    "version": 3
   },
   "file_extension": ".py",
   "mimetype": "text/x-python",
   "name": "python",
   "nbconvert_exporter": "python",
   "pygments_lexer": "ipython3",
   "version": "3.8.8"
  }
 },
 "nbformat": 4,
 "nbformat_minor": 4
}
